{
 "cells": [
  {
   "cell_type": "code",
   "execution_count": 223,
   "id": "5f9f736f",
   "metadata": {},
   "outputs": [],
   "source": [
    "import pandas as pd\n",
    "import regex as re\n",
    "import numpy as np\n",
    "import glob"
   ]
  },
  {
   "cell_type": "code",
   "execution_count": 224,
   "id": "e32122c2",
   "metadata": {},
   "outputs": [],
   "source": [
    "def get_execution_time(path):\n",
    "    matchstr = \"Predicted in (\\d+\\.\\d+)\"\n",
    "\n",
    "    for line in open(path):\n",
    "        out = re.findall(matchstr, line)\n",
    "        if out:\n",
    "            return round(float(out[0]), 3)"
   ]
  },
  {
   "cell_type": "code",
   "execution_count": 225,
   "id": "881de8aa",
   "metadata": {},
   "outputs": [],
   "source": [
    "def get_content(path):\n",
    "    with open(path) as f:\n",
    "        return list(map(str.split, re.findall(\"\\d+:\\d+:\\d+.*\", f.read())))        "
   ]
  },
  {
   "cell_type": "code",
   "execution_count": 226,
   "id": "4dbc2371",
   "metadata": {},
   "outputs": [],
   "source": [
    "def get_average_power(data):\n",
    "    return [float(x[-1]) for x in data]"
   ]
  },
  {
   "cell_type": "code",
   "execution_count": 227,
   "id": "ab6e9773",
   "metadata": {},
   "outputs": [
    {
     "name": "stdout",
     "output_type": "stream",
     "text": [
      "18.795266666666667 24.045585443037975 451.9431905580169\n"
     ]
    }
   ],
   "source": [
    "dirs = glob.glob('*_*')\n",
    "overall_power = []\n",
    "overall_exec_time = []\n",
    "\n",
    "for filename in dirs:\n",
    "    execution_time = get_execution_time(filename + \"/out.txt\")\n",
    "    power = get_average_power(get_content(filename + \"/power.txt\"))\n",
    "    overall_power.extend(power)\n",
    "    overall_exec_time.append(execution_time)\n",
    "\n",
    "average_power = np.array(overall_power).mean()\n",
    "average_exec_time = np.array(overall_exec_time).mean()\n",
    "\n",
    "print(f\"{average_exec_time} s, {average_power}, {average_power * average_exec_time\")"
   ]
  },
  {
   "cell_type": "code",
   "execution_count": null,
   "id": "6cae2865",
   "metadata": {},
   "outputs": [],
   "source": []
  },
  {
   "cell_type": "code",
   "execution_count": null,
   "id": "c9d1bd80",
   "metadata": {},
   "outputs": [],
   "source": []
  },
  {
   "cell_type": "code",
   "execution_count": null,
   "id": "ea207f49",
   "metadata": {},
   "outputs": [],
   "source": []
  },
  {
   "cell_type": "code",
   "execution_count": null,
   "id": "bb9b1aca",
   "metadata": {},
   "outputs": [],
   "source": []
  }
 ],
 "metadata": {
  "kernelspec": {
   "display_name": "Python 3 (ipykernel)",
   "language": "python",
   "name": "python3"
  },
  "language_info": {
   "codemirror_mode": {
    "name": "ipython",
    "version": 3
   },
   "file_extension": ".py",
   "mimetype": "text/x-python",
   "name": "python",
   "nbconvert_exporter": "python",
   "pygments_lexer": "ipython3",
   "version": "3.11.3"
  }
 },
 "nbformat": 4,
 "nbformat_minor": 5
}
